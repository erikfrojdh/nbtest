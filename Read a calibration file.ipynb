{
 "cells": [
  {
   "cell_type": "markdown",
   "id": "d3a933d2",
   "metadata": {},
   "source": [
    "# Read a Jungfrau Calibration File\n",
    "\n",
    "Dummy example"
   ]
  },
  {
   "cell_type": "code",
   "execution_count": null,
   "id": "c7503223",
   "metadata": {},
   "outputs": [],
   "source": [
    "from pathlib import Path\n",
    "import numpy as np\n",
    "import matplotlib.pyplot as plt"
   ]
  },
  {
   "cell_type": "code",
   "execution_count": null,
   "id": "886298c8",
   "metadata": {},
   "outputs": [],
   "source": [
    "cal = np.fromfile('data/calibration/gainMaps_M121_2019-07-29.bin', count = 512*1024*3, dtype = np.double)\n",
    "cal = cal.reshape(3,512,1024)"
   ]
  },
  {
   "cell_type": "code",
   "execution_count": null,
   "id": "027a45ee",
   "metadata": {},
   "outputs": [],
   "source": [
    "fig, ax = plt.subplots()\n",
    "im = ax.imshow(cal[0])"
   ]
  }
 ],
 "metadata": {
  "kernelspec": {
   "display_name": "Python 3",
   "language": "python",
   "name": "python3"
  },
  "language_info": {
   "codemirror_mode": {
    "name": "ipython",
    "version": 3
   },
   "file_extension": ".py",
   "mimetype": "text/x-python",
   "name": "python",
   "nbconvert_exporter": "python",
   "pygments_lexer": "ipython3",
   "version": "3.9.1"
  }
 },
 "nbformat": 4,
 "nbformat_minor": 5
}
