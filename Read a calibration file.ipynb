{
 "cells": [
  {
   "cell_type": "markdown",
   "id": "ef688021",
   "metadata": {},
   "source": [
    "# Read a Jungfrau Calibration File\n",
    "\n",
    "Dummy example"
   ]
  },
  {
   "cell_type": "code",
   "execution_count": null,
   "id": "fa14dcb3",
   "metadata": {},
   "outputs": [],
   "source": [
    "from pathlib import Path\n",
    "import numpy as np\n",
    "import matplotlib.pyplot as plt"
   ]
  },
  {
   "cell_type": "code",
   "execution_count": null,
   "id": "75b4e566",
   "metadata": {},
   "outputs": [],
   "source": [
    "data_path = Path.home()/'data'\n",
    "\n",
    "cal = np.fromfile(data_path/'calibration/gainMaps_M121_2019-07-29.bin', count = 512*1024*3, dtype = np.double)\n",
    "cal = cal.reshape(3,512,1024)"
   ]
  },
  {
   "cell_type": "code",
   "execution_count": null,
   "id": "3705834f",
   "metadata": {},
   "outputs": [],
   "source": [
    "fig, ax = plt.subplots()\n",
    "im = ax.imshow(cal[0])"
   ]
  }
 ],
 "metadata": {
  "kernelspec": {
   "display_name": "Python 3",
   "language": "python",
   "name": "python3"
  },
  "language_info": {
   "codemirror_mode": {
    "name": "ipython",
    "version": 3
   },
   "file_extension": ".py",
   "mimetype": "text/x-python",
   "name": "python",
   "nbconvert_exporter": "python",
   "pygments_lexer": "ipython3",
   "version": "3.9.1"
  }
 },
 "nbformat": 4,
 "nbformat_minor": 5
}
